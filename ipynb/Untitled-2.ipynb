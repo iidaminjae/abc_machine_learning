{
 "cells": [
  {
   "cell_type": "code",
   "execution_count": 30,
   "metadata": {},
   "outputs": [],
   "source": [
    "import pandas as pd\n",
    "import folium\n",
    "df = pd.read_csv(\"tashu_station_list.csv\")"
   ]
  },
  {
   "cell_type": "code",
   "execution_count": 31,
   "metadata": {},
   "outputs": [
    {
     "data": {
      "text/plain": [
       "(36.350292977973574, 127.38790854625553)"
      ]
     },
     "execution_count": 31,
     "metadata": {},
     "output_type": "execute_result"
    }
   ],
   "source": [
    "center_lat = df[\"x_pos\"].mean()\n",
    "center_lng = df[\"y_pos\"].mean()\n",
    "center_lat , center_lng"
   ]
  },
  {
   "cell_type": "code",
   "execution_count": 34,
   "metadata": {},
   "outputs": [
    {
     "ename": "NameError",
     "evalue": "name 'folium_map' is not defined",
     "output_type": "error",
     "traceback": [
      "\u001b[1;31m---------------------------------------------------------------------------\u001b[0m",
      "\u001b[1;31mNameError\u001b[0m                                 Traceback (most recent call last)",
      "Cell \u001b[1;32mIn[34], line 13\u001b[0m\n\u001b[0;32m      7\u001b[0m     parking_count \u001b[39m=\u001b[39m row[\u001b[39m\"\u001b[39m\u001b[39mparking_count\u001b[39m\u001b[39m\"\u001b[39m]\n\u001b[0;32m      9\u001b[0m     marker \u001b[39m=\u001b[39m folium\u001b[39m.\u001b[39mMarker(\n\u001b[0;32m     10\u001b[0m         location\u001b[39m=\u001b[39m[lat, lng],\n\u001b[0;32m     11\u001b[0m         tooltip\u001b[39m=\u001b[39m\u001b[39mf\u001b[39m\u001b[39m\"\u001b[39m\u001b[39m{\u001b[39;00mname\u001b[39m}\u001b[39;00m\u001b[39m - \u001b[39m\u001b[39m{\u001b[39;00mparking_count\u001b[39m}\u001b[39;00m\u001b[39m\"\u001b[39m,\n\u001b[0;32m     12\u001b[0m     )\n\u001b[1;32m---> 13\u001b[0m     marker\u001b[39m.\u001b[39madd_to(folium_map)\n\u001b[0;32m     15\u001b[0m folium_map\n",
      "\u001b[1;31mNameError\u001b[0m: name 'folium_map' is not defined"
     ]
    }
   ],
   "source": [
    "mask = df[\"parking_count\"] > 0\n",
    "\n",
    "for _, row in df.iterrows():\n",
    "    name = row[\"name\"]\n",
    "    lat = row[\"x_pos\"]\n",
    "    lng = row[\"y_pos\"]\n",
    "    parking_count = row[\"parking_count\"]\n",
    "\n",
    "    marker = folium.Marker(\n",
    "        location=[lat, lng],\n",
    "        tooltip=f\"{name} - {parking_count}\",\n",
    "    )\n",
    "    marker.add_to(folium_map)\n",
    "\n",
    "folium_map"
   ]
  },
  {
   "cell_type": "code",
   "execution_count": 35,
   "metadata": {},
   "outputs": [
    {
     "data": {
      "text/plain": [
       "<generator object DataFrame.iterrows at 0x000001EB3D6369B0>"
      ]
     },
     "execution_count": 35,
     "metadata": {},
     "output_type": "execute_result"
    }
   ],
   "source": [
    "df.iterrows()"
   ]
  },
  {
   "cell_type": "code",
   "execution_count": 45,
   "metadata": {},
   "outputs": [],
   "source": [
    "del folium.Map"
   ]
  },
  {
   "cell_type": "code",
   "execution_count": 46,
   "metadata": {},
   "outputs": [
    {
     "ename": "AttributeError",
     "evalue": "module 'folium' has no attribute 'Map'",
     "output_type": "error",
     "traceback": [
      "\u001b[1;31m---------------------------------------------------------------------------\u001b[0m",
      "\u001b[1;31mAttributeError\u001b[0m                            Traceback (most recent call last)",
      "Cell \u001b[1;32mIn[46], line 1\u001b[0m\n\u001b[1;32m----> 1\u001b[0m f_map \u001b[39m=\u001b[39m folium\u001b[39m.\u001b[39;49mMap()\n",
      "\u001b[1;31mAttributeError\u001b[0m: module 'folium' has no attribute 'Map'"
     ]
    }
   ],
   "source": [
    "f_map = folium.Map()"
   ]
  },
  {
   "cell_type": "code",
   "execution_count": null,
   "metadata": {},
   "outputs": [],
   "source": []
  },
  {
   "cell_type": "code",
   "execution_count": 38,
   "metadata": {},
   "outputs": [
    {
     "ename": "TypeError",
     "evalue": "'Map' object is not callable",
     "output_type": "error",
     "traceback": [
      "\u001b[1;31m---------------------------------------------------------------------------\u001b[0m",
      "\u001b[1;31mTypeError\u001b[0m                                 Traceback (most recent call last)",
      "Cell \u001b[1;32mIn[38], line 3\u001b[0m\n\u001b[0;32m      1\u001b[0m \u001b[39mimport\u001b[39;00m \u001b[39mfolium\u001b[39;00m\n\u001b[1;32m----> 3\u001b[0m folium_map \u001b[39m=\u001b[39m folium\u001b[39m.\u001b[39;49mMap(\n\u001b[0;32m      4\u001b[0m     location\u001b[39m=\u001b[39;49m[center_lat , center_lng], zoom_start\u001b[39m=\u001b[39;49m\u001b[39m13\u001b[39;49m,\n\u001b[0;32m      5\u001b[0m     )\n\u001b[0;32m      9\u001b[0m folium_map\n",
      "\u001b[1;31mTypeError\u001b[0m: 'Map' object is not callable"
     ]
    }
   ],
   "source": [
    "import folium\n",
    "\n",
    "folium_map = folium.Map(\n",
    "    location=[center_lat , center_lng], zoom_start=13,\n",
    "    )\n",
    "   \n",
    "\n",
    "\n",
    "folium_map"
   ]
  },
  {
   "cell_type": "code",
   "execution_count": 40,
   "metadata": {},
   "outputs": [
    {
     "ename": "TypeError",
     "evalue": "'Map' object is not callable",
     "output_type": "error",
     "traceback": [
      "\u001b[1;31m---------------------------------------------------------------------------\u001b[0m",
      "\u001b[1;31mTypeError\u001b[0m                                 Traceback (most recent call last)",
      "Cell \u001b[1;32mIn[40], line 4\u001b[0m\n\u001b[0;32m      1\u001b[0m \u001b[39m# 선생님꺼\u001b[39;00m\n\u001b[0;32m      2\u001b[0m \u001b[39mimport\u001b[39;00m \u001b[39mfolium\u001b[39;00m\n\u001b[1;32m----> 4\u001b[0m folium_map \u001b[39m=\u001b[39m folium\u001b[39m.\u001b[39;49mMap(\n\u001b[0;32m      5\u001b[0m     location\u001b[39m=\u001b[39;49m[center_lat, center_lng],\n\u001b[0;32m      6\u001b[0m     zoom_start\u001b[39m=\u001b[39;49m\u001b[39m13\u001b[39;49m\n\u001b[0;32m      7\u001b[0m )\n\u001b[0;32m      9\u001b[0m mask \u001b[39m=\u001b[39m df[\u001b[39m\"\u001b[39m\u001b[39mparking_count\u001b[39m\u001b[39m\"\u001b[39m] \u001b[39m>\u001b[39m \u001b[39m0\u001b[39m\n\u001b[0;32m     11\u001b[0m \u001b[39mfor\u001b[39;00m _, row \u001b[39min\u001b[39;00m df[mask]\u001b[39m.\u001b[39miterrows():\n",
      "\u001b[1;31mTypeError\u001b[0m: 'Map' object is not callable"
     ]
    }
   ],
   "source": [
    "# 선생님꺼\n",
    "import folium\n",
    "\n",
    "folium_map = folium.Map(\n",
    "    location=[center_lat, center_lng],\n",
    "    zoom_start=13\n",
    ")\n",
    "\n",
    "mask = df[\"parking_count\"] > 0\n",
    "\n",
    "for _, row in df[mask].iterrows():\n",
    "    name = row[\"name\"]\n",
    "    lat = row[\"x_pos\"]\n",
    "    lng = row[\"y_pos\"]\n",
    "    parking_count = row[\"parking_count\"]\n",
    "\n",
    "    marker = folium.Marker(\n",
    "        location=[lat, lng],\n",
    "        tooltip=f\"{name} - {parking_count}\"\n",
    "    )\n",
    "    marker.add_to(folium_map)\n",
    "\n",
    "folium_map"
   ]
  }
 ],
 "metadata": {
  "kernelspec": {
   "display_name": "Python 3",
   "language": "python",
   "name": "python3"
  },
  "language_info": {
   "codemirror_mode": {
    "name": "ipython",
    "version": 3
   },
   "file_extension": ".py",
   "mimetype": "text/x-python",
   "name": "python",
   "nbconvert_exporter": "python",
   "pygments_lexer": "ipython3",
   "version": "3.11.4"
  },
  "orig_nbformat": 4
 },
 "nbformat": 4,
 "nbformat_minor": 2
}
